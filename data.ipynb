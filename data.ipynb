{
 "cells": [
  {
   "cell_type": "code",
   "execution_count": 2,
   "id": "903275cd",
   "metadata": {},
   "outputs": [],
   "source": [
    "import pandas as pd\n",
    "from data import load_debt_data, total_annual_debt, total_annual_unemployment, filter_by_year, filter_by_years, filter_by_states"
   ]
  },
  {
   "cell_type": "code",
   "execution_count": 3,
   "id": "0d52b621",
   "metadata": {},
   "outputs": [],
   "source": [
    "df = pd.read_csv('data/debt_92-05.csv', sep=';')\n",
    "df['value'] = pd.to_numeric(df['value'], errors='coerce')\n",
    "df['time'] = pd.to_datetime(df['time']).dt.year"
   ]
  },
  {
   "cell_type": "code",
   "execution_count": 4,
   "id": "4026e87c",
   "metadata": {},
   "outputs": [
    {
     "data": {
      "text/html": [
       "<div>\n",
       "<style scoped>\n",
       "    .dataframe tbody tr th:only-of-type {\n",
       "        vertical-align: middle;\n",
       "    }\n",
       "\n",
       "    .dataframe tbody tr th {\n",
       "        vertical-align: top;\n",
       "    }\n",
       "\n",
       "    .dataframe thead th {\n",
       "        text-align: right;\n",
       "    }\n",
       "</style>\n",
       "<table border=\"1\" class=\"dataframe\">\n",
       "  <thead>\n",
       "    <tr style=\"text-align: right;\">\n",
       "      <th></th>\n",
       "      <th>time</th>\n",
       "      <th>total_annual_debt</th>\n",
       "    </tr>\n",
       "  </thead>\n",
       "  <tbody>\n",
       "    <tr>\n",
       "      <th>0</th>\n",
       "      <td>1992</td>\n",
       "      <td>13069.0</td>\n",
       "    </tr>\n",
       "    <tr>\n",
       "      <th>1</th>\n",
       "      <td>1993</td>\n",
       "      <td>16053.0</td>\n",
       "    </tr>\n",
       "    <tr>\n",
       "      <th>2</th>\n",
       "      <td>1994</td>\n",
       "      <td>18454.0</td>\n",
       "    </tr>\n",
       "    <tr>\n",
       "      <th>3</th>\n",
       "      <td>1995</td>\n",
       "      <td>23700.0</td>\n",
       "    </tr>\n",
       "    <tr>\n",
       "      <th>4</th>\n",
       "      <td>1996</td>\n",
       "      <td>26911.0</td>\n",
       "    </tr>\n",
       "    <tr>\n",
       "      <th>5</th>\n",
       "      <td>1997</td>\n",
       "      <td>29000.0</td>\n",
       "    </tr>\n",
       "    <tr>\n",
       "      <th>6</th>\n",
       "      <td>1998</td>\n",
       "      <td>31211.0</td>\n",
       "    </tr>\n",
       "    <tr>\n",
       "      <th>7</th>\n",
       "      <td>1999</td>\n",
       "      <td>33231.0</td>\n",
       "    </tr>\n",
       "    <tr>\n",
       "      <th>8</th>\n",
       "      <td>2000</td>\n",
       "      <td>34936.0</td>\n",
       "    </tr>\n",
       "    <tr>\n",
       "      <th>9</th>\n",
       "      <td>2001</td>\n",
       "      <td>39778.0</td>\n",
       "    </tr>\n",
       "    <tr>\n",
       "      <th>10</th>\n",
       "      <td>2002</td>\n",
       "      <td>46016.0</td>\n",
       "    </tr>\n",
       "    <tr>\n",
       "      <th>11</th>\n",
       "      <td>2003</td>\n",
       "      <td>50039.0</td>\n",
       "    </tr>\n",
       "    <tr>\n",
       "      <th>12</th>\n",
       "      <td>2004</td>\n",
       "      <td>55128.0</td>\n",
       "    </tr>\n",
       "    <tr>\n",
       "      <th>13</th>\n",
       "      <td>2005</td>\n",
       "      <td>58580.0</td>\n",
       "    </tr>\n",
       "  </tbody>\n",
       "</table>\n",
       "</div>"
      ],
      "text/plain": [
       "    time  total_annual_debt\n",
       "0   1992            13069.0\n",
       "1   1993            16053.0\n",
       "2   1994            18454.0\n",
       "3   1995            23700.0\n",
       "4   1996            26911.0\n",
       "5   1997            29000.0\n",
       "6   1998            31211.0\n",
       "7   1999            33231.0\n",
       "8   2000            34936.0\n",
       "9   2001            39778.0\n",
       "10  2002            46016.0\n",
       "11  2003            50039.0\n",
       "12  2004            55128.0\n",
       "13  2005            58580.0"
      ]
     },
     "execution_count": 3,
     "metadata": {},
     "output_type": "execute_result"
    }
   ],
   "source": [
    "# get total annual debt by year for Berlin on a state level\n",
    "filtered_df = df[df['1_variable_attribute_label'] == \"Berlin\"]\n",
    "filtered_df = filtered_df[filtered_df['2_variable_attribute_label'] == \"Länder\"]\n",
    "filtered_df['total_annual_debt'] = filtered_df.groupby('time')['value'].transform('sum')\n",
    "filtered_df = filtered_df.groupby('time')['total_annual_debt'].agg(lambda x: list(x)[0]).reset_index()\n",
    "filtered_df"
   ]
  },
  {
   "cell_type": "code",
   "execution_count": 1,
   "id": "383ad6c0",
   "metadata": {},
   "outputs": [
    {
     "name": "stdout",
     "output_type": "stream",
     "text": [
      "          year  Baden-Württemberg    Bayern   Berlin  Brandenburg  Bremen  \\\n",
      "20  2015-12-31           10868608  12839918  3521616      2476068  645996   \n",
      "\n",
      "    Hamburg   Hessen  Mecklenburg-Vorpommern  Niedersachsen  \\\n",
      "20  1786330  6186695                 1598937        7904588   \n",
      "\n",
      "    Nordrhein-Westfalen  Rheinland-Pfalz  Saarland  Sachsen  Sachsen-Anhalt  \\\n",
      "20             17859492          4048788    996772  4069273         2248950   \n",
      "\n",
      "    Schleswig-Holstein  Thüringen  \n",
      "20             2853103    2167048  \n"
     ]
    }
   ],
   "source": [
    "from data import load_population_density, population_from_density\n",
    "\n",
    "df= load_population_density()\n",
    "\n",
    "pop= population_from_density()\n",
    "\n",
    "print(pop[pop['year']=='2015-12-31'])"
   ]
  },
  {
   "cell_type": "code",
   "execution_count": 1,
   "id": "299390d2",
   "metadata": {},
   "outputs": [
    {
     "name": "stdout",
     "output_type": "stream",
     "text": [
      "               state  year  debt_per_person_eur\n",
      "0  Baden-Württemberg  1995              2481.92\n",
      "1  Baden-Württemberg  1996              2632.99\n",
      "2  Baden-Württemberg  1997              2727.84\n",
      "3  Baden-Württemberg  1998              2831.82\n",
      "4  Baden-Württemberg  1999              2893.37\n",
      "               state  year  unemployment_rate_percent\n",
      "0  Baden-Württemberg  1995                       3.18\n",
      "1  Baden-Württemberg  1996                       3.41\n",
      "2  Baden-Württemberg  1997                       3.67\n",
      "3  Baden-Württemberg  1998                       3.37\n",
      "4  Baden-Württemberg  1999                        3.1\n"
     ]
    }
   ],
   "source": [
    "from data import normalized_debt_per_capita, normalized_unemployment_per_capita\n",
    "\n",
    "\n",
    "debt_norm = normalized_debt_per_capita()\n",
    "unemp_norm = normalized_unemployment_per_capita()\n",
    "\n",
    "print(debt_norm.head())\n",
    "print(unemp_norm.head())\n"
   ]
  }
 ],
 "metadata": {
  "kernelspec": {
   "display_name": "3.10.12",
   "language": "python",
   "name": "python3"
  },
  "language_info": {
   "codemirror_mode": {
    "name": "ipython",
    "version": 3
   },
   "file_extension": ".py",
   "mimetype": "text/x-python",
   "name": "python",
   "nbconvert_exporter": "python",
   "pygments_lexer": "ipython3",
   "version": "3.10.12"
  }
 },
 "nbformat": 4,
 "nbformat_minor": 5
}
