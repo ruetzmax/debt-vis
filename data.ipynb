{
 "cells": [
  {
   "cell_type": "code",
   "execution_count": 1,
   "id": "903275cd",
   "metadata": {},
   "outputs": [],
   "source": [
    "import pandas as pd\n",
    "from data import load_debt_data, total_annual_debt, total_annual_unemployment, filter_by_year, filter_by_years, filter_by_states"
   ]
  },
  {
   "cell_type": "code",
   "execution_count": 2,
   "id": "0d52b621",
   "metadata": {},
   "outputs": [],
   "source": [
    "df = pd.read_csv('data/debt_92-05.csv', sep=';')\n",
    "df['value'] = pd.to_numeric(df['value'], errors='coerce')\n",
    "df['time'] = pd.to_datetime(df['time']).dt.year"
   ]
  },
  {
   "cell_type": "code",
   "execution_count": 3,
   "id": "4026e87c",
   "metadata": {},
   "outputs": [
    {
     "data": {
      "text/html": [
       "<div>\n",
       "<style scoped>\n",
       "    .dataframe tbody tr th:only-of-type {\n",
       "        vertical-align: middle;\n",
       "    }\n",
       "\n",
       "    .dataframe tbody tr th {\n",
       "        vertical-align: top;\n",
       "    }\n",
       "\n",
       "    .dataframe thead th {\n",
       "        text-align: right;\n",
       "    }\n",
       "</style>\n",
       "<table border=\"1\" class=\"dataframe\">\n",
       "  <thead>\n",
       "    <tr style=\"text-align: right;\">\n",
       "      <th></th>\n",
       "      <th>time</th>\n",
       "      <th>total_annual_debt</th>\n",
       "    </tr>\n",
       "  </thead>\n",
       "  <tbody>\n",
       "    <tr>\n",
       "      <th>0</th>\n",
       "      <td>1992</td>\n",
       "      <td>13069.0</td>\n",
       "    </tr>\n",
       "    <tr>\n",
       "      <th>1</th>\n",
       "      <td>1993</td>\n",
       "      <td>16053.0</td>\n",
       "    </tr>\n",
       "    <tr>\n",
       "      <th>2</th>\n",
       "      <td>1994</td>\n",
       "      <td>18454.0</td>\n",
       "    </tr>\n",
       "    <tr>\n",
       "      <th>3</th>\n",
       "      <td>1995</td>\n",
       "      <td>23700.0</td>\n",
       "    </tr>\n",
       "    <tr>\n",
       "      <th>4</th>\n",
       "      <td>1996</td>\n",
       "      <td>26911.0</td>\n",
       "    </tr>\n",
       "    <tr>\n",
       "      <th>5</th>\n",
       "      <td>1997</td>\n",
       "      <td>29000.0</td>\n",
       "    </tr>\n",
       "    <tr>\n",
       "      <th>6</th>\n",
       "      <td>1998</td>\n",
       "      <td>31211.0</td>\n",
       "    </tr>\n",
       "    <tr>\n",
       "      <th>7</th>\n",
       "      <td>1999</td>\n",
       "      <td>33231.0</td>\n",
       "    </tr>\n",
       "    <tr>\n",
       "      <th>8</th>\n",
       "      <td>2000</td>\n",
       "      <td>34936.0</td>\n",
       "    </tr>\n",
       "    <tr>\n",
       "      <th>9</th>\n",
       "      <td>2001</td>\n",
       "      <td>39778.0</td>\n",
       "    </tr>\n",
       "    <tr>\n",
       "      <th>10</th>\n",
       "      <td>2002</td>\n",
       "      <td>46016.0</td>\n",
       "    </tr>\n",
       "    <tr>\n",
       "      <th>11</th>\n",
       "      <td>2003</td>\n",
       "      <td>50039.0</td>\n",
       "    </tr>\n",
       "    <tr>\n",
       "      <th>12</th>\n",
       "      <td>2004</td>\n",
       "      <td>55128.0</td>\n",
       "    </tr>\n",
       "    <tr>\n",
       "      <th>13</th>\n",
       "      <td>2005</td>\n",
       "      <td>58580.0</td>\n",
       "    </tr>\n",
       "  </tbody>\n",
       "</table>\n",
       "</div>"
      ],
      "text/plain": [
       "    time  total_annual_debt\n",
       "0   1992            13069.0\n",
       "1   1993            16053.0\n",
       "2   1994            18454.0\n",
       "3   1995            23700.0\n",
       "4   1996            26911.0\n",
       "5   1997            29000.0\n",
       "6   1998            31211.0\n",
       "7   1999            33231.0\n",
       "8   2000            34936.0\n",
       "9   2001            39778.0\n",
       "10  2002            46016.0\n",
       "11  2003            50039.0\n",
       "12  2004            55128.0\n",
       "13  2005            58580.0"
      ]
     },
     "execution_count": 3,
     "metadata": {},
     "output_type": "execute_result"
    }
   ],
   "source": [
    "# get total annual debt by year for Berlin on a state level\n",
    "filtered_df = df[df['1_variable_attribute_label'] == \"Berlin\"]\n",
    "filtered_df = filtered_df[filtered_df['2_variable_attribute_label'] == \"Länder\"]\n",
    "filtered_df['total_annual_debt'] = filtered_df.groupby('time')['value'].transform('sum')\n",
    "filtered_df = filtered_df.groupby('time')['total_annual_debt'].agg(lambda x: list(x)[0]).reset_index()\n",
    "filtered_df"
   ]
  },
  {
   "cell_type": "code",
   "execution_count": 4,
   "id": "b4371be9",
   "metadata": {},
   "outputs": [
    {
     "data": {
      "text/html": [
       "<div>\n",
       "<style scoped>\n",
       "    .dataframe tbody tr th:only-of-type {\n",
       "        vertical-align: middle;\n",
       "    }\n",
       "\n",
       "    .dataframe tbody tr th {\n",
       "        vertical-align: top;\n",
       "    }\n",
       "\n",
       "    .dataframe thead th {\n",
       "        text-align: right;\n",
       "    }\n",
       "</style>\n",
       "<table border=\"1\" class=\"dataframe\">\n",
       "  <thead>\n",
       "    <tr style=\"text-align: right;\">\n",
       "      <th></th>\n",
       "      <th>state</th>\n",
       "      <th>year</th>\n",
       "      <th>value</th>\n",
       "      <th>unemployment</th>\n",
       "    </tr>\n",
       "  </thead>\n",
       "  <tbody>\n",
       "    <tr>\n",
       "      <th>0</th>\n",
       "      <td>Baden-Württemberg</td>\n",
       "      <td>1992</td>\n",
       "      <td>32024.0</td>\n",
       "      <td>191970</td>\n",
       "    </tr>\n",
       "    <tr>\n",
       "      <th>13</th>\n",
       "      <td>Baden-Württemberg</td>\n",
       "      <td>2005</td>\n",
       "      <td>48916.0</td>\n",
       "      <td>385267</td>\n",
       "    </tr>\n",
       "    <tr>\n",
       "      <th>12</th>\n",
       "      <td>Baden-Württemberg</td>\n",
       "      <td>2004</td>\n",
       "      <td>46961.0</td>\n",
       "      <td>340943</td>\n",
       "    </tr>\n",
       "    <tr>\n",
       "      <th>11</th>\n",
       "      <td>Baden-Württemberg</td>\n",
       "      <td>2003</td>\n",
       "      <td>45186.0</td>\n",
       "      <td>336881</td>\n",
       "    </tr>\n",
       "    <tr>\n",
       "      <th>10</th>\n",
       "      <td>Baden-Württemberg</td>\n",
       "      <td>2002</td>\n",
       "      <td>42737.0</td>\n",
       "      <td>295005</td>\n",
       "    </tr>\n",
       "    <tr>\n",
       "      <th>...</th>\n",
       "      <td>...</td>\n",
       "      <td>...</td>\n",
       "      <td>...</td>\n",
       "      <td>...</td>\n",
       "    </tr>\n",
       "    <tr>\n",
       "      <th>211</th>\n",
       "      <td>Thüringen</td>\n",
       "      <td>1993</td>\n",
       "      <td>5793.0</td>\n",
       "      <td>192939</td>\n",
       "    </tr>\n",
       "    <tr>\n",
       "      <th>210</th>\n",
       "      <td>Thüringen</td>\n",
       "      <td>1992</td>\n",
       "      <td>3070.0</td>\n",
       "      <td>192748</td>\n",
       "    </tr>\n",
       "    <tr>\n",
       "      <th>222</th>\n",
       "      <td>Thüringen</td>\n",
       "      <td>2004</td>\n",
       "      <td>17021.0</td>\n",
       "      <td>207430</td>\n",
       "    </tr>\n",
       "    <tr>\n",
       "      <th>215</th>\n",
       "      <td>Thüringen</td>\n",
       "      <td>1997</td>\n",
       "      <td>11358.0</td>\n",
       "      <td>217675</td>\n",
       "    </tr>\n",
       "    <tr>\n",
       "      <th>223</th>\n",
       "      <td>Thüringen</td>\n",
       "      <td>2005</td>\n",
       "      <td>17900.0</td>\n",
       "      <td>209941</td>\n",
       "    </tr>\n",
       "  </tbody>\n",
       "</table>\n",
       "<p>224 rows × 4 columns</p>\n",
       "</div>"
      ],
      "text/plain": [
       "                 state  year    value  unemployment\n",
       "0    Baden-Württemberg  1992  32024.0        191970\n",
       "13   Baden-Württemberg  2005  48916.0        385267\n",
       "12   Baden-Württemberg  2004  46961.0        340943\n",
       "11   Baden-Württemberg  2003  45186.0        336881\n",
       "10   Baden-Württemberg  2002  42737.0        295005\n",
       "..                 ...   ...      ...           ...\n",
       "211          Thüringen  1993   5793.0        192939\n",
       "210          Thüringen  1992   3070.0        192748\n",
       "222          Thüringen  2004  17021.0        207430\n",
       "215          Thüringen  1997  11358.0        217675\n",
       "223          Thüringen  2005  17900.0        209941\n",
       "\n",
       "[224 rows x 4 columns]"
      ]
     },
     "execution_count": 4,
     "metadata": {},
     "output_type": "execute_result"
    }
   ],
   "source": [
    "debt = load_debt_data()[['state', 'year', 'value']]\n",
    "unemployment = total_annual_unemployment()\n",
    "\n",
    "debt_grouped = debt.groupby(['state','year'], as_index=False).agg({'value': 'sum'})\n",
    "\n",
    "# Debt data covers full span so only need to search other features, extend to more features\n",
    "min_year = min(debt_grouped['year'])\n",
    "max_year = max(debt_grouped['year'])\n",
    "\n",
    "unemployment = filter_by_years(unemployment, min_year, max_year)\n",
    "\n",
    "combined = debt_grouped.sort_values('state')\n",
    "combined['unemployment'] = unemployment.sort_values('state')['value'].values\n",
    "combined"
   ]
  },
  {
   "cell_type": "code",
   "execution_count": 5,
   "id": "c1ef05d7",
   "metadata": {},
   "outputs": [
    {
     "data": {
      "application/vnd.plotly.v1+json": {
       "config": {
        "plotlyServerURL": "https://plot.ly",
        "toImageButtonOptions": {
         "filename": "custom_image",
         "format": "svg",
         "height": 1000,
         "scale": 1,
         "width": 1000
        }
       },
       "data": [
        {
         "hovertemplate": "label=Anchors' Names<br>0=%{x}<br>1=%{y}<br>AnchorsLabel=%{text}<extra></extra>",
         "legendgroup": "Anchors' Names",
         "marker": {
          "color": "#EF553B",
          "symbol": "circle"
         },
         "mode": "markers+text",
         "name": "Anchors' Names",
         "orientation": "v",
         "showlegend": true,
         "text": [
          "year",
          "value",
          "unemployment"
         ],
         "type": "scatter",
         "x": {
          "bdata": "AAAAAAAA8D8AAAAAAADgvwAAAAAAAOC/",
          "dtype": "f8"
         },
         "xaxis": "x",
         "y": {
          "bdata": "AAAAAAAAAAC8lpAPerbrP7yWkA96tuu/",
          "dtype": "f8"
         },
         "yaxis": "y"
        },
        {
         "hovertemplate": "label=Baden-Württemberg<br>0=%{x}<br>1=%{y}<br>AnchorsLabel=%{text}<extra></extra>",
         "legendgroup": "Baden-Württemberg",
         "marker": {
          "color": "#00CC96",
          "symbol": "circle"
         },
         "mode": "markers+text",
         "name": "Baden-Württemberg",
         "orientation": "v",
         "showlegend": true,
         "text": [
          "",
          "",
          "",
          "",
          "",
          "",
          "",
          "",
          "",
          "",
          "",
          "",
          "",
          ""
         ],
         "type": "scatter",
         "x": {
          "bdata": "AAAAAAAA4L+bZMgdCwrZP3YgEmmMNdk/Gs2q+xXQ1z8XKa0Vm+/XP0X/ItgIXdQ/0qV/Vd3uzj+eRI2YxQ/XP54k5QeOkrY/yZGtPmq3nj8Lnhr7WvylvwcYZJjC9sS/2JPrgfZ/0r9LolESYbTFPw==",
          "dtype": "f8"
         },
         "xaxis": "x",
         "y": {
          "bdata": "46d2cistwj8bQAd4UQZrv7+EiSAUIoo/CyUFcYYwgT8jnpWE6COZP3xZNnAcIpQ/JIQNvwj+kL9j0xH0jGymPx6ppiSkobO/LvZ9sNCasL8CKzsBZVquv8rfGj/pDLK/b+MbxQnDm78qnbd8y++lvw==",
          "dtype": "f8"
         },
         "yaxis": "y"
        },
        {
         "hovertemplate": "label=Bayern<br>0=%{x}<br>1=%{y}<br>AnchorsLabel=%{text}<extra></extra>",
         "legendgroup": "Bayern",
         "marker": {
          "color": "#AB63FA",
          "symbol": "circle"
         },
         "mode": "markers+text",
         "name": "Bayern",
         "orientation": "v",
         "showlegend": true,
         "text": [
          "",
          "",
          "",
          "",
          "",
          "",
          "",
          "",
          "",
          "",
          "",
          "",
          "",
          ""
         ],
         "type": "scatter",
         "x": {
          "bdata": "WMmto8gy0z8CdSyGNeTWP0aPsGk8Ldc/+tFq3AOI1T8PiSQWhQ3WP9aTlqbE3ss/WP4Eaew41j+dhJHqDXWwP4pxQ83LW5E/ADOBDoUCpL+VBJhw5VbEv+Ih2QwW7dK/AAAAAAAA4L+nCg491A/CPw==",
          "dtype": "f8"
         },
         "xaxis": "x",
         "y": {
          "bdata": "xY+rpLvCp79BLqsJEgu2v61NYn3WOrK/JKzHYy5PtL/2AXQdqO2uv1U7OvNN87O/gLw4+0pLo79gqxmmG6fBv5MLTJPJAMG/89L3VhSGwL8NMmjdmofDvx7LJt3jN7+/j0FKDocbir/kptic+qy6vw==",
          "dtype": "f8"
         },
         "yaxis": "y"
        },
        {
         "hovertemplate": "label=Berlin<br>0=%{x}<br>1=%{y}<br>AnchorsLabel=%{text}<extra></extra>",
         "legendgroup": "Berlin",
         "marker": {
          "color": "#FFA15A",
          "symbol": "circle"
         },
         "mode": "markers+text",
         "name": "Berlin",
         "orientation": "v",
         "showlegend": true,
         "text": [
          "",
          "",
          "",
          "",
          "",
          "",
          "",
          "",
          "",
          "",
          "",
          "",
          "",
          ""
         ],
         "type": "scatter",
         "x": {
          "bdata": "nDuiryvi2D/kqqrydZXYP8M4LFImntc/eMNvKvQ61z9hbubRAWLXP9ijO8Gpo9Y/PfGSnI/u0z/CNan6RMDQPwguLdcK2sU/v/gumv1/vD8StrpUjluNPzt8V4+moMW/AAAAAAAA4L9IhmJ3WUvLPw==",
          "dtype": "f8"
         },
         "xaxis": "x",
         "y": {
          "bdata": "D7fj/1yvsD/qxKU1JFKxP5JpA+jAxqc/S1a851pZpj8tPL6fFl+cP3XzP1tOQ4I/FnCV37q8br/SJwCzL/yWv/oPWoheUJe/IlF94Wa6nb/+y2+wK1O6vwYmZkAMecS/GK9uN0hp07/H1FCKRZahvw==",
          "dtype": "f8"
         },
         "yaxis": "y"
        },
        {
         "hovertemplate": "label=Brandenburg<br>0=%{x}<br>1=%{y}<br>AnchorsLabel=%{text}<extra></extra>",
         "legendgroup": "Brandenburg",
         "marker": {
          "color": "#19D3F3",
          "symbol": "circle"
         },
         "mode": "markers+text",
         "name": "Brandenburg",
         "orientation": "v",
         "showlegend": true,
         "text": [
          "",
          "",
          "",
          "",
          "",
          "",
          "",
          "",
          "",
          "",
          "",
          "",
          "",
          ""
         ],
         "type": "scatter",
         "x": {
          "bdata": "U9Lqffjb4D8/JKLsKh7kP+8hEyBdR+M/WsjZm4Bq4j8Z/3vNhkfiP4bqsy5JvN4/cxtEfjui4T+nUBgUpjnYPwAAAAAAAOC/ZiUZXbe6rL9wRzefhTDDPzavOS35uts/PYV/phCO1j9IE9UvvH/TPw==",
          "dtype": "f8"
         },
         "xaxis": "x",
         "y": {
          "bdata": "uU5K4+7Dt7+aBmzipFOsv1FgpnRgp7C/UAhnr+hWsr9b0tMxTGuzv4t4diwQpbe/sIxpfgsLtr/Z/CLpvfC+v+iauv0qpea/OV0fADLa1r/qwFxhrNDKv077qKE/Sbq/AhgVI4JnvL86bCe2see+vw==",
          "dtype": "f8"
         },
         "yaxis": "y"
        },
        {
         "hovertemplate": "label=Bremen<br>0=%{x}<br>1=%{y}<br>AnchorsLabel=%{text}<extra></extra>",
         "legendgroup": "Bremen",
         "marker": {
          "color": "#FF6692",
          "symbol": "circle"
         },
         "mode": "markers+text",
         "name": "Bremen",
         "orientation": "v",
         "showlegend": true,
         "text": [
          "",
          "",
          "",
          "",
          "",
          "",
          "",
          "",
          "",
          "",
          "",
          "",
          "",
          ""
         ],
         "type": "scatter",
         "x": {
          "bdata": "ySF2dPoS7D8u5REJH63rP2Zfn0T+IOw/IsHxTxUH7D+D2xiG6iTsPxagRXFCt+s/EMl4xH816z9fjfLgfg7qP9vDcw4i3ug/tGbGoSzI5z+2f/VdCwvmP349sszfduI/vGX5p8u21j8AAAAAAADgvw==",
          "dtype": "f8"
         },
         "xaxis": "x",
         "y": {
          "bdata": "vba+mfjDqj86aVApKuKmP57HuvEtgqo/70KzvqSIqj/IUEln0WaqP1i6KbXyR6s/6llkcY1vqj8eYDP9l6CuP1yr9898MbI/YR9F9qACtz8TH9aayXTAP0EzmAtrkMY/PJ8PeuG/0z+8lpAPerbrPw==",
          "dtype": "f8"
         },
         "yaxis": "y"
        },
        {
         "hovertemplate": "label=Hamburg<br>0=%{x}<br>1=%{y}<br>AnchorsLabel=%{text}<extra></extra>",
         "legendgroup": "Hamburg",
         "marker": {
          "color": "#B6E880",
          "symbol": "circle"
         },
         "mode": "markers+text",
         "name": "Hamburg",
         "orientation": "v",
         "showlegend": true,
         "text": [
          "",
          "",
          "",
          "",
          "",
          "",
          "",
          "",
          "",
          "",
          "",
          "",
          "",
          ""
         ],
         "type": "scatter",
         "x": {
          "bdata": "NTdF1e7g5z+5nAsDDXfnPwxC15xAeuc/algmcv0x5z8FmKbFXHnmP/3rjOmUSOU/Khw7g0TC5z+AZBK0q+HjPxQH+KWdmeA/TZo0Yujz3D/0lj1tFGHVP1uuN8cEP8A/AAAAAAAA4L/EqkF1PyniPw==",
          "dtype": "f8"
         },
         "xaxis": "x",
         "y": {
          "bdata": "kzM1kScBsT9BVL5hsmSwPzzOoUHrH7I/9IAcUU+4tD/fqNpoYrazP8MYCzSkvbA/K2oRzTJirD/wWqW3wGGtP5sIhAXKI7U/o3pjyjv2uT8gMdbyITzCP4WMbM7Tqcs/W9WV8YwO2T+wzjfWnk6uPw==",
          "dtype": "f8"
         },
         "yaxis": "y"
        },
        {
         "hovertemplate": "label=Hessen<br>0=%{x}<br>1=%{y}<br>AnchorsLabel=%{text}<extra></extra>",
         "legendgroup": "Hessen",
         "marker": {
          "color": "#FF97FF",
          "symbol": "circle"
         },
         "mode": "markers+text",
         "name": "Hessen",
         "orientation": "v",
         "showlegend": true,
         "text": [
          "",
          "",
          "",
          "",
          "",
          "",
          "",
          "",
          "",
          "",
          "",
          "",
          "",
          ""
         ],
         "type": "scatter",
         "x": {
          "bdata": "r+HUxChb3j+wACbcIAXfPyvuQAHcCN4/E0RImW0x3j/ipjtuDVXdP9eTpyIMXNo/Nv2xtbzs1T/v24PqgibRP4T6qPxYvsI/RS3lWd0yrz/704P1FzGwv4m0StxOF8y/AAAAAAAA4L8GVrl6GUXJPw==",
          "dtype": "f8"
         },
         "xaxis": "x",
         "y": {
          "bdata": "I4NJFAYXij+zQULppnyhP+WiJpvt8KE/BAeMcSSUpz8c5+y+ckupPximj6LKR6E/EIpjCBUHjD+H0TP2G+53P+xqxpCnjIw/4Fh7MzEjpz/ZGVqbeY6oP7r0da15V7s/Sg1VrsXRzj9FUo4c/jhyvw==",
          "dtype": "f8"
         },
         "yaxis": "y"
        },
        {
         "hovertemplate": "label=Mecklenburg-Vorpommern<br>0=%{x}<br>1=%{y}<br>AnchorsLabel=%{text}<extra></extra>",
         "legendgroup": "Mecklenburg-Vorpommern",
         "marker": {
          "color": "#FECB52",
          "symbol": "circle"
         },
         "mode": "markers+text",
         "name": "Mecklenburg-Vorpommern",
         "orientation": "v",
         "showlegend": true,
         "text": [
          "",
          "",
          "",
          "",
          "",
          "",
          "",
          "",
          "",
          "",
          "",
          "",
          "",
          ""
         ],
         "type": "scatter",
         "x": {
          "bdata": "QDlNOTrP5D/IKBT/oYfmP4P4SGqIE+Y/XXTavEb65T+pZFBUnl3lP3sIE2jCkeM/0XIZLlkY5z9rDkcoS4LgP+qXshADzd8/HRtiVhkV3T9E9OV+xgbUP6SZIlZcn68/AAAAAAAA4L/JSjvWKOXhPw==",
          "dtype": "f8"
         },
         "xaxis": "x",
         "y": {
          "bdata": "vjwu68ggs7+rseW9YROqvwKdXvrG+62/5qQYelNSrr/bZfvx5C2xv6pz4D2M07S/hV1MG3iApr9nyWPft0jAv+aCjw13EsG/y6VelqAJxL9n8BP1WULRv83yc0a9sNy/vJaQD3q2678oxIVVxii7vw==",
          "dtype": "f8"
         },
         "yaxis": "y"
        },
        {
         "hovertemplate": "label=Niedersachsen<br>0=%{x}<br>1=%{y}<br>AnchorsLabel=%{text}<extra></extra>",
         "legendgroup": "Niedersachsen",
         "marker": {
          "color": "#636EFA",
          "symbol": "circle"
         },
         "mode": "markers+text",
         "name": "Niedersachsen",
         "orientation": "v",
         "showlegend": true,
         "text": [
          "",
          "",
          "",
          "",
          "",
          "",
          "",
          "",
          "",
          "",
          "",
          "",
          "",
          ""
         ],
         "type": "scatter",
         "x": {
          "bdata": "rf5OR7UD1T+VQxn1Nb3VP3djkoM7V9Q/G3peYVCA0z99tN/yLTjSP2ZLjmNvBNA/53pWkW35xz/d4sxPo/e9PxWwCAdhdKg/OQONf0S5gb9LBYYVd/2yv4DvcOrs4ca/8Ca3W12P078AAAAAAADgvw==",
          "dtype": "f8"
         },
         "xaxis": "x",
         "y": {
          "bdata": "9S7KCuZHgr93Hzaq8aCcPyMzVJlf/44/unGj5H7HiT9UQFj2TIx6P0cd+rvl6XW/L3TTblCZmb9LaAbSoICmv0OA101rG7C/BLIskEYxrL9YfvCk2cyhv0/fcbUhoqe/kGgHQnvCnb842ovDYnWhPw==",
          "dtype": "f8"
         },
         "yaxis": "y"
        },
        {
         "hovertemplate": "label=Nordrhein-Westfalen<br>0=%{x}<br>1=%{y}<br>AnchorsLabel=%{text}<extra></extra>",
         "legendgroup": "Nordrhein-Westfalen",
         "marker": {
          "color": "rgb(102,194,165)",
          "symbol": "circle"
         },
         "mode": "markers+text",
         "name": "Nordrhein-Westfalen",
         "orientation": "v",
         "showlegend": true,
         "text": [
          "",
          "",
          "",
          "",
          "",
          "",
          "",
          "",
          "",
          "",
          "",
          "",
          "",
          ""
         ],
         "type": "scatter",
         "x": {
          "bdata": "AAAAAAAAAAD2qEiBLf2BP5iEr6nBs36/hSD/OkBPkL/6S070ZAihv/y3pDn/OLC/6q35jVF0vL9XMbNTLeTDv9870Chf5sm/vDTkTqipzr8p1rkru1fSv5+6Px75O9a/g5yJGi5/2r8AAAAAAADgvw==",
          "dtype": "f8"
         },
         "xaxis": "x",
         "y": {
          "bdata": "AAAAAAAAAAA6grPCYZahP4CS5gKilpo/pX/K6oEqoT/QkkMlIAOkP8SXsiyCkZI/eSZSHBOCgL/TwiBa+k6avwU66f1h6Ki/5Q4pQf6Bpb+soUn5S+Khv7cdlnwV/q+/jgqjK+4znb8EFWQkOEGiPw==",
          "dtype": "f8"
         },
         "yaxis": "y"
        },
        {
         "hovertemplate": "label=Rheinland-Pfalz<br>0=%{x}<br>1=%{y}<br>AnchorsLabel=%{text}<extra></extra>",
         "legendgroup": "Rheinland-Pfalz",
         "marker": {
          "color": "rgb(252,141,98)",
          "symbol": "circle"
         },
         "mode": "markers+text",
         "name": "Rheinland-Pfalz",
         "orientation": "v",
         "showlegend": true,
         "text": [
          "",
          "",
          "",
          "",
          "",
          "",
          "",
          "",
          "",
          "",
          "",
          "",
          "",
          ""
         ],
         "type": "scatter",
         "x": {
          "bdata": "o0T7dk+o4z/ul3d+ddXjP5GsOYewS+M/wGXh1skP4z9v5LTMCLPiP57F+/YfxeE/5YZ8JQwe4D8NIl97e7fcP2dEBmIahtg/c4r/JrlO1T/QH//G4N/QP1w289w/uL4/rxFPd/E0tL8AAAAAAADgvw==",
          "dtype": "f8"
         },
         "xaxis": "x",
         "y": {
          "bdata": "TcBcrTqnoz9qFeIpR8ypPxlcjZZt36g/Fuxt5Kx1qz+5wYtg/6KtP4+RV5jb46k/CHivgDwfpD+MrqcXVHSdP5W1qWhqho0/1gFzQFaDmT+e0htYg96lP1UnOuug0ag/RA5kyoWVtz/H1hve437RPw==",
          "dtype": "f8"
         },
         "yaxis": "y"
        },
        {
         "hovertemplate": "label=Saarland<br>0=%{x}<br>1=%{y}<br>AnchorsLabel=%{text}<extra></extra>",
         "legendgroup": "Saarland",
         "marker": {
          "color": "rgb(141,160,203)",
          "symbol": "circle"
         },
         "mode": "markers+text",
         "name": "Saarland",
         "orientation": "v",
         "showlegend": true,
         "text": [
          "",
          "",
          "",
          "",
          "",
          "",
          "",
          "",
          "",
          "",
          "",
          "",
          "",
          ""
         ],
         "type": "scatter",
         "x": {
          "bdata": "GdIQ7+by7D8aAOMOkLzsP2RkIOnGpOw/pgsf+s+P7D/dFNCwJZPrP8DEnNqgx+o/01v8hOO27D9EGg19yEvoPxYp5XVy/uY/uAaMWQTp5D83cd4uqaXgP4g0CjgRJNI/AAAAAAAA4L9w8D4t4M/pPw==",
          "dtype": "f8"
         },
         "xaxis": "x",
         "y": {
          "bdata": "kkzRjdgEnz/vogzdHnWdPw0rCErRo5o/e7JLf2U/oD/0NTrGgCqkP5t+sdPqmaU/ZxeELcCbnz+O/FL5X/6nPz2Ola/fK7I/hUHMJgazuT80LNpRTmnAP+F8J0vykM0/zDHk6eZN5T+AvnjP3EymPw==",
          "dtype": "f8"
         },
         "yaxis": "y"
        },
        {
         "hovertemplate": "label=Sachsen<br>0=%{x}<br>1=%{y}<br>AnchorsLabel=%{text}<extra></extra>",
         "legendgroup": "Sachsen",
         "marker": {
          "color": "rgb(231,138,195)",
          "symbol": "circle"
         },
         "mode": "markers+text",
         "name": "Sachsen",
         "orientation": "v",
         "showlegend": true,
         "text": [
          "",
          "",
          "",
          "",
          "",
          "",
          "",
          "",
          "",
          "",
          "",
          "",
          "",
          ""
         ],
         "type": "scatter",
         "x": {
          "bdata": "MVaI07OI4D/P3RgtI6ffP+GeDch0ld0/sU5F3nqG2z9Bt34OtH/ZP4bU9T7mVNc/8W5CbpGy1D/iah/MvszQPy5r1ymDNco/5ZshufCGxj+Zn4gNFRe8P1HwbL1y46S/yIv9Di1ky78AAAAAAADgvw==",
          "dtype": "f8"
         },
         "xaxis": "x",
         "y": {
          "bdata": "HkTk+i2Twr/nNWi5j0PDv+wGRvd8L8W/hf0/D4r8xr/u504CMk/Iv1l0TkAuJsm/1ELfa1uzyr+Xlgt6ThzNvyZPyKIcqM+/asgAgFUgz7+oHpKjuv3Qv1tE6MD+Rti/imbYQ885379JGIb4FHHnvw==",
          "dtype": "f8"
         },
         "yaxis": "y"
        },
        {
         "hovertemplate": "label=Sachsen-Anhalt<br>0=%{x}<br>1=%{y}<br>AnchorsLabel=%{text}<extra></extra>",
         "legendgroup": "Sachsen-Anhalt",
         "marker": {
          "color": "rgb(166,216,84)",
          "symbol": "circle"
         },
         "mode": "markers+text",
         "name": "Sachsen-Anhalt",
         "orientation": "v",
         "showlegend": true,
         "text": [
          "",
          "",
          "",
          "",
          "",
          "",
          "",
          "",
          "",
          "",
          "",
          "",
          "",
          ""
         ],
         "type": "scatter",
         "x": {
          "bdata": "4DEFJkxW4j/oWsKPNJfhPxhsTWC1AeM/SnnsDp0Y4D/8sfNzg4ndP+Vu9F1fFto/0hm0p9sL4T96jCaqLLvTP1ccCD+iA9I/CEaMFyZIzj8NxKkXMGy1P+wsCVups76/AAAAAAAA4L8gM6EElRfXPw==",
          "dtype": "f8"
         },
         "xaxis": "x",
         "y": {
          "bdata": "BYHfiwuorL/c4xYBsAyyv+iG+f/hC6e/3adR07zMt7/Y9RTZOAq9vy4W+NktT72/8wnufLF4s79ywOjJNzTFv1CenoBMIsW/JfU9cz7IyL++PtoGmx/TvwPFoIxRXtu/mgdVxbCt5r93K+AQzWvBvw==",
          "dtype": "f8"
         },
         "yaxis": "y"
        },
        {
         "hovertemplate": "label=Schleswig-Holstein<br>0=%{x}<br>1=%{y}<br>AnchorsLabel=%{text}<extra></extra>",
         "legendgroup": "Schleswig-Holstein",
         "marker": {
          "color": "rgb(255,217,47)",
          "symbol": "circle"
         },
         "mode": "markers+text",
         "name": "Schleswig-Holstein",
         "orientation": "v",
         "showlegend": true,
         "text": [
          "",
          "",
          "",
          "",
          "",
          "",
          "",
          "",
          "",
          "",
          "",
          "",
          "",
          ""
         ],
         "type": "scatter",
         "x": {
          "bdata": "xFIvgYg85T9BnxMb2ZDlPx7pWvTDIuU/72W3ShrK5D8Z64HB0gjkP6gqocuqieI/MPIwK/kw5T93GTKwTSreP+bLhnN0T9s/F9O8gVWu1j8Yv4mH4+HLP+M35OBS9ma/AAAAAAAA4L8YVrl8QtDgPw==",
          "dtype": "f8"
         },
         "xaxis": "x",
         "y": {
          "bdata": "4K32jvyNmD8Q0RvwwIOiP+bwC0frsqE/tb/+RQGOpj9Wlb0b2DGnP71BpWv+vKM/ToTndSVqpT//4qPOK5ehPwjJAKkw8qs/oEZbs5UOtD+3sbT2HYC0P5rM5Oa3dcA/PnEKKaoP0D/Guhq2jj6gPw==",
          "dtype": "f8"
         },
         "yaxis": "y"
        },
        {
         "hovertemplate": "label=Thüringen<br>0=%{x}<br>1=%{y}<br>AnchorsLabel=%{text}<extra></extra>",
         "legendgroup": "Thüringen",
         "marker": {
          "color": "rgb(229,196,148)",
          "symbol": "circle"
         },
         "mode": "markers+text",
         "name": "Thüringen",
         "orientation": "v",
         "showlegend": true,
         "text": [
          "",
          "",
          "",
          "",
          "",
          "",
          "",
          "",
          "",
          "",
          "",
          "",
          "",
          ""
         ],
         "type": "scatter",
         "x": {
          "bdata": "s10g+wMg5D8tMstwxcXjP8KE0ev7L+M/zjs0AydA4j9KPIs+BEvhP5n51Y+sM94/Y+QW+/WW0z/bhPiOhzXXP1kD6cYUPcI/WbIsWXhbsL8AAAAAAADgv7k0NGHExOQ/3eywa0gL2j/VwyMwgDDlPw==",
          "dtype": "f8"
         },
         "xaxis": "x",
         "y": {
          "bdata": "eZ8jBEoArL+WE02BehOtvzEZG2rycK6/LG1hcQG7sb+YAKxS5PazvyRIx5yQxb2/5566nh14w7+f3aYgN03Bv5bZPfw3GdC/nmi+FZSX2r+8rV/Y/Rzov/x89jaMZqa/H+ZvuGJlw785Vo+8J5mjvw==",
          "dtype": "f8"
         },
         "yaxis": "y"
        },
        {
         "marker": {
          "color": "#636EFA",
          "opacity": 0.1,
          "size": 0
         },
         "mode": "markers",
         "showlegend": false,
         "type": "scatter",
         "x": {
          "bdata": "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",
          "dtype": "f8"
         },
         "y": {
          "bdata": "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",
          "dtype": "f8"
         }
        }
       ],
       "layout": {
        "dragmode": "select",
        "height": 1000,
        "hovermode": "closest",
        "legend": {
         "font": {
          "size": 12
         },
         "orientation": "h",
         "title": {
          "text": "label"
         },
         "tracegroupgap": 0,
         "x": 1,
         "xanchor": "right",
         "y": 1,
         "yanchor": "top"
        },
        "margin": {
         "b": 50,
         "l": 50,
         "r": 50,
         "t": 50
        },
        "template": {
         "data": {
          "bar": [
           {
            "error_x": {
             "color": "#2a3f5f"
            },
            "error_y": {
             "color": "#2a3f5f"
            },
            "marker": {
             "line": {
              "color": "#E5ECF6",
              "width": 0.5
             },
             "pattern": {
              "fillmode": "overlay",
              "size": 10,
              "solidity": 0.2
             }
            },
            "type": "bar"
           }
          ],
          "barpolar": [
           {
            "marker": {
             "line": {
              "color": "#E5ECF6",
              "width": 0.5
             },
             "pattern": {
              "fillmode": "overlay",
              "size": 10,
              "solidity": 0.2
             }
            },
            "type": "barpolar"
           }
          ],
          "carpet": [
           {
            "aaxis": {
             "endlinecolor": "#2a3f5f",
             "gridcolor": "white",
             "linecolor": "white",
             "minorgridcolor": "white",
             "startlinecolor": "#2a3f5f"
            },
            "baxis": {
             "endlinecolor": "#2a3f5f",
             "gridcolor": "white",
             "linecolor": "white",
             "minorgridcolor": "white",
             "startlinecolor": "#2a3f5f"
            },
            "type": "carpet"
           }
          ],
          "choropleth": [
           {
            "colorbar": {
             "outlinewidth": 0,
             "ticks": ""
            },
            "type": "choropleth"
           }
          ],
          "contour": [
           {
            "colorbar": {
             "outlinewidth": 0,
             "ticks": ""
            },
            "colorscale": [
             [
              0,
              "#0d0887"
             ],
             [
              0.1111111111111111,
              "#46039f"
             ],
             [
              0.2222222222222222,
              "#7201a8"
             ],
             [
              0.3333333333333333,
              "#9c179e"
             ],
             [
              0.4444444444444444,
              "#bd3786"
             ],
             [
              0.5555555555555556,
              "#d8576b"
             ],
             [
              0.6666666666666666,
              "#ed7953"
             ],
             [
              0.7777777777777778,
              "#fb9f3a"
             ],
             [
              0.8888888888888888,
              "#fdca26"
             ],
             [
              1,
              "#f0f921"
             ]
            ],
            "type": "contour"
           }
          ],
          "contourcarpet": [
           {
            "colorbar": {
             "outlinewidth": 0,
             "ticks": ""
            },
            "type": "contourcarpet"
           }
          ],
          "heatmap": [
           {
            "colorbar": {
             "outlinewidth": 0,
             "ticks": ""
            },
            "colorscale": [
             [
              0,
              "#0d0887"
             ],
             [
              0.1111111111111111,
              "#46039f"
             ],
             [
              0.2222222222222222,
              "#7201a8"
             ],
             [
              0.3333333333333333,
              "#9c179e"
             ],
             [
              0.4444444444444444,
              "#bd3786"
             ],
             [
              0.5555555555555556,
              "#d8576b"
             ],
             [
              0.6666666666666666,
              "#ed7953"
             ],
             [
              0.7777777777777778,
              "#fb9f3a"
             ],
             [
              0.8888888888888888,
              "#fdca26"
             ],
             [
              1,
              "#f0f921"
             ]
            ],
            "type": "heatmap"
           }
          ],
          "histogram": [
           {
            "marker": {
             "pattern": {
              "fillmode": "overlay",
              "size": 10,
              "solidity": 0.2
             }
            },
            "type": "histogram"
           }
          ],
          "histogram2d": [
           {
            "colorbar": {
             "outlinewidth": 0,
             "ticks": ""
            },
            "colorscale": [
             [
              0,
              "#0d0887"
             ],
             [
              0.1111111111111111,
              "#46039f"
             ],
             [
              0.2222222222222222,
              "#7201a8"
             ],
             [
              0.3333333333333333,
              "#9c179e"
             ],
             [
              0.4444444444444444,
              "#bd3786"
             ],
             [
              0.5555555555555556,
              "#d8576b"
             ],
             [
              0.6666666666666666,
              "#ed7953"
             ],
             [
              0.7777777777777778,
              "#fb9f3a"
             ],
             [
              0.8888888888888888,
              "#fdca26"
             ],
             [
              1,
              "#f0f921"
             ]
            ],
            "type": "histogram2d"
           }
          ],
          "histogram2dcontour": [
           {
            "colorbar": {
             "outlinewidth": 0,
             "ticks": ""
            },
            "colorscale": [
             [
              0,
              "#0d0887"
             ],
             [
              0.1111111111111111,
              "#46039f"
             ],
             [
              0.2222222222222222,
              "#7201a8"
             ],
             [
              0.3333333333333333,
              "#9c179e"
             ],
             [
              0.4444444444444444,
              "#bd3786"
             ],
             [
              0.5555555555555556,
              "#d8576b"
             ],
             [
              0.6666666666666666,
              "#ed7953"
             ],
             [
              0.7777777777777778,
              "#fb9f3a"
             ],
             [
              0.8888888888888888,
              "#fdca26"
             ],
             [
              1,
              "#f0f921"
             ]
            ],
            "type": "histogram2dcontour"
           }
          ],
          "mesh3d": [
           {
            "colorbar": {
             "outlinewidth": 0,
             "ticks": ""
            },
            "type": "mesh3d"
           }
          ],
          "parcoords": [
           {
            "line": {
             "colorbar": {
              "outlinewidth": 0,
              "ticks": ""
             }
            },
            "type": "parcoords"
           }
          ],
          "pie": [
           {
            "automargin": true,
            "type": "pie"
           }
          ],
          "scatter": [
           {
            "fillpattern": {
             "fillmode": "overlay",
             "size": 10,
             "solidity": 0.2
            },
            "type": "scatter"
           }
          ],
          "scatter3d": [
           {
            "line": {
             "colorbar": {
              "outlinewidth": 0,
              "ticks": ""
             }
            },
            "marker": {
             "colorbar": {
              "outlinewidth": 0,
              "ticks": ""
             }
            },
            "type": "scatter3d"
           }
          ],
          "scattercarpet": [
           {
            "marker": {
             "colorbar": {
              "outlinewidth": 0,
              "ticks": ""
             }
            },
            "type": "scattercarpet"
           }
          ],
          "scattergeo": [
           {
            "marker": {
             "colorbar": {
              "outlinewidth": 0,
              "ticks": ""
             }
            },
            "type": "scattergeo"
           }
          ],
          "scattergl": [
           {
            "marker": {
             "colorbar": {
              "outlinewidth": 0,
              "ticks": ""
             }
            },
            "type": "scattergl"
           }
          ],
          "scattermap": [
           {
            "marker": {
             "colorbar": {
              "outlinewidth": 0,
              "ticks": ""
             }
            },
            "type": "scattermap"
           }
          ],
          "scattermapbox": [
           {
            "marker": {
             "colorbar": {
              "outlinewidth": 0,
              "ticks": ""
             }
            },
            "type": "scattermapbox"
           }
          ],
          "scatterpolar": [
           {
            "marker": {
             "colorbar": {
              "outlinewidth": 0,
              "ticks": ""
             }
            },
            "type": "scatterpolar"
           }
          ],
          "scatterpolargl": [
           {
            "marker": {
             "colorbar": {
              "outlinewidth": 0,
              "ticks": ""
             }
            },
            "type": "scatterpolargl"
           }
          ],
          "scatterternary": [
           {
            "marker": {
             "colorbar": {
              "outlinewidth": 0,
              "ticks": ""
             }
            },
            "type": "scatterternary"
           }
          ],
          "surface": [
           {
            "colorbar": {
             "outlinewidth": 0,
             "ticks": ""
            },
            "colorscale": [
             [
              0,
              "#0d0887"
             ],
             [
              0.1111111111111111,
              "#46039f"
             ],
             [
              0.2222222222222222,
              "#7201a8"
             ],
             [
              0.3333333333333333,
              "#9c179e"
             ],
             [
              0.4444444444444444,
              "#bd3786"
             ],
             [
              0.5555555555555556,
              "#d8576b"
             ],
             [
              0.6666666666666666,
              "#ed7953"
             ],
             [
              0.7777777777777778,
              "#fb9f3a"
             ],
             [
              0.8888888888888888,
              "#fdca26"
             ],
             [
              1,
              "#f0f921"
             ]
            ],
            "type": "surface"
           }
          ],
          "table": [
           {
            "cells": {
             "fill": {
              "color": "#EBF0F8"
             },
             "line": {
              "color": "white"
             }
            },
            "header": {
             "fill": {
              "color": "#C8D4E3"
             },
             "line": {
              "color": "white"
             }
            },
            "type": "table"
           }
          ]
         },
         "layout": {
          "annotationdefaults": {
           "arrowcolor": "#2a3f5f",
           "arrowhead": 0,
           "arrowwidth": 1
          },
          "autotypenumbers": "strict",
          "coloraxis": {
           "colorbar": {
            "outlinewidth": 0,
            "ticks": ""
           }
          },
          "colorscale": {
           "diverging": [
            [
             0,
             "#8e0152"
            ],
            [
             0.1,
             "#c51b7d"
            ],
            [
             0.2,
             "#de77ae"
            ],
            [
             0.3,
             "#f1b6da"
            ],
            [
             0.4,
             "#fde0ef"
            ],
            [
             0.5,
             "#f7f7f7"
            ],
            [
             0.6,
             "#e6f5d0"
            ],
            [
             0.7,
             "#b8e186"
            ],
            [
             0.8,
             "#7fbc41"
            ],
            [
             0.9,
             "#4d9221"
            ],
            [
             1,
             "#276419"
            ]
           ],
           "sequential": [
            [
             0,
             "#0d0887"
            ],
            [
             0.1111111111111111,
             "#46039f"
            ],
            [
             0.2222222222222222,
             "#7201a8"
            ],
            [
             0.3333333333333333,
             "#9c179e"
            ],
            [
             0.4444444444444444,
             "#bd3786"
            ],
            [
             0.5555555555555556,
             "#d8576b"
            ],
            [
             0.6666666666666666,
             "#ed7953"
            ],
            [
             0.7777777777777778,
             "#fb9f3a"
            ],
            [
             0.8888888888888888,
             "#fdca26"
            ],
            [
             1,
             "#f0f921"
            ]
           ],
           "sequentialminus": [
            [
             0,
             "#0d0887"
            ],
            [
             0.1111111111111111,
             "#46039f"
            ],
            [
             0.2222222222222222,
             "#7201a8"
            ],
            [
             0.3333333333333333,
             "#9c179e"
            ],
            [
             0.4444444444444444,
             "#bd3786"
            ],
            [
             0.5555555555555556,
             "#d8576b"
            ],
            [
             0.6666666666666666,
             "#ed7953"
            ],
            [
             0.7777777777777778,
             "#fb9f3a"
            ],
            [
             0.8888888888888888,
             "#fdca26"
            ],
            [
             1,
             "#f0f921"
            ]
           ]
          },
          "colorway": [
           "#636efa",
           "#EF553B",
           "#00cc96",
           "#ab63fa",
           "#FFA15A",
           "#19d3f3",
           "#FF6692",
           "#B6E880",
           "#FF97FF",
           "#FECB52"
          ],
          "font": {
           "color": "#2a3f5f"
          },
          "geo": {
           "bgcolor": "white",
           "lakecolor": "white",
           "landcolor": "#E5ECF6",
           "showlakes": true,
           "showland": true,
           "subunitcolor": "white"
          },
          "hoverlabel": {
           "align": "left"
          },
          "hovermode": "closest",
          "mapbox": {
           "style": "light"
          },
          "paper_bgcolor": "white",
          "plot_bgcolor": "#E5ECF6",
          "polar": {
           "angularaxis": {
            "gridcolor": "white",
            "linecolor": "white",
            "ticks": ""
           },
           "bgcolor": "#E5ECF6",
           "radialaxis": {
            "gridcolor": "white",
            "linecolor": "white",
            "ticks": ""
           }
          },
          "scene": {
           "xaxis": {
            "backgroundcolor": "#E5ECF6",
            "gridcolor": "white",
            "gridwidth": 2,
            "linecolor": "white",
            "showbackground": true,
            "ticks": "",
            "zerolinecolor": "white"
           },
           "yaxis": {
            "backgroundcolor": "#E5ECF6",
            "gridcolor": "white",
            "gridwidth": 2,
            "linecolor": "white",
            "showbackground": true,
            "ticks": "",
            "zerolinecolor": "white"
           },
           "zaxis": {
            "backgroundcolor": "#E5ECF6",
            "gridcolor": "white",
            "gridwidth": 2,
            "linecolor": "white",
            "showbackground": true,
            "ticks": "",
            "zerolinecolor": "white"
           }
          },
          "shapedefaults": {
           "line": {
            "color": "#2a3f5f"
           }
          },
          "ternary": {
           "aaxis": {
            "gridcolor": "white",
            "linecolor": "white",
            "ticks": ""
           },
           "baxis": {
            "gridcolor": "white",
            "linecolor": "white",
            "ticks": ""
           },
           "bgcolor": "#E5ECF6",
           "caxis": {
            "gridcolor": "white",
            "linecolor": "white",
            "ticks": ""
           }
          },
          "title": {
           "x": 0.05
          },
          "xaxis": {
           "automargin": true,
           "gridcolor": "white",
           "linecolor": "white",
           "ticks": "",
           "title": {
            "standoff": 15
           },
           "zerolinecolor": "white",
           "zerolinewidth": 2
          },
          "yaxis": {
           "automargin": true,
           "gridcolor": "white",
           "linecolor": "white",
           "ticks": "",
           "title": {
            "standoff": 15
           },
           "zerolinecolor": "white",
           "zerolinewidth": 2
          }
         }
        },
        "width": 1000,
        "xaxis": {
         "anchor": "y",
         "domain": [
          0,
          1
         ],
         "title": {}
        },
        "yaxis": {
         "anchor": "x",
         "domain": [
          0,
          1
         ],
         "title": {}
        }
       }
      }
     },
     "metadata": {},
     "output_type": "display_data"
    }
   ],
   "source": [
    "from radviz_plotly import RadViz2D\n",
    "\n",
    "y = combined['state']\n",
    "x = combined.drop(['state'], axis=1) \n",
    "\n",
    "BPs = 10000\n",
    "RadViz2D(y, x, BPs)"
   ]
  }
 ],
 "metadata": {
  "kernelspec": {
   "display_name": "datavis",
   "language": "python",
   "name": "python3"
  },
  "language_info": {
   "codemirror_mode": {
    "name": "ipython",
    "version": 3
   },
   "file_extension": ".py",
   "mimetype": "text/x-python",
   "name": "python",
   "nbconvert_exporter": "python",
   "pygments_lexer": "ipython3",
   "version": "3.11.14"
  }
 },
 "nbformat": 4,
 "nbformat_minor": 5
}
